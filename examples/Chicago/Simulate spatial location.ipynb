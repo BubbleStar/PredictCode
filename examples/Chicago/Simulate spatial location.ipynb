{
 "cells": [
  {
   "cell_type": "code",
   "execution_count": 1,
   "metadata": {
    "collapsed": false
   },
   "outputs": [],
   "source": [
    "# Allow us to load `open_cp` without installing\n",
    "import sys, os.path\n",
    "sys.path.insert(0, os.path.abspath(os.path.join(\"..\", \"..\")))"
   ]
  },
  {
   "cell_type": "markdown",
   "metadata": {},
   "source": [
    "## Simulate spatial locations\n",
    "\n",
    "Work in progress..."
   ]
  },
  {
   "cell_type": "markdown",
   "metadata": {},
   "source": [
    "# Resources for address data\n",
    "\n",
    "The [TIGER/Line](https://www.census.gov/geo/maps-data/data/tiger-line.html) dataset from the US Census bureau provides a great resource for getting block-level address data.\n",
    "- [Technical documentation](https://www2.census.gov/geo/pdfs/maps-data/data/tiger/tgrshp2016/TGRSHP2016_TechDoc.pdf)\n",
    "- It is easiest to download the data from the [FTP Site](ftp://ftp2.census.gov/geo/tiger/TIGER2016/ADDRFEAT/)\n",
    "- Here I link to the ADDRFEAT datasets which provide the best geocoding data, according to the tech documentation.\n",
    "- The files are named using the [FIP County Code](https://en.wikipedia.org/wiki/FIPS_county_code).  For chicago this is 17031.\n",
    "- Once downloaded, unzip, and find a standard shape file.  It is interesting to load this, and an extract of the crime data (e.g. by loading into a GeoDataFrame and saving), into QGIS and visualising the result.\n",
    "\n",
    "It is also possible to extract address details from OpenStreetMap.  In particular, for Chicago, there are a very large number of individual buildings, with addresses, available.  However, I have also noticed that the OSM data is not as complete as the US Census dataset (for example, minor roads missing names, even when those roads appear in the crime dataset).\n",
    "\n",
    "The Census data from 2013 seems good to use.  The 2016 data seems to be more \"aggregated\": it is easy to find examples of a single block which is split into, say, 3 paths in the geometry.  In the 2013 data each part will contain a range of addresses, while in the 2016 data, only one part contains all the addresses, the other parts having \"None\" as the address range."
   ]
  },
  {
   "cell_type": "code",
   "execution_count": 2,
   "metadata": {
    "collapsed": false
   },
   "outputs": [],
   "source": [
    "%matplotlib inline\n",
    "import matplotlib.pyplot as plt\n",
    "import geopandas as gpd\n",
    "import os\n",
    "import numpy as np\n",
    "import pandas as pd\n",
    "\n",
    "#filename = os.path.join(\"/media\", \"disk\", \"tl_2013_17031_edges\", \"tl_2013_17031_edges.shp\")\n",
    "filename = os.path.join(\"..\", \"..\", \"..\", \"..\", \"..\", \"Data\", \"tl_2013_17031_edges\", \"tl_2013_17031_edges.shp\")"
   ]
  },
  {
   "cell_type": "code",
   "execution_count": 3,
   "metadata": {
    "collapsed": false
   },
   "outputs": [],
   "source": [
    "edges = gpd.read_file(filename)"
   ]
  },
  {
   "cell_type": "code",
   "execution_count": 4,
   "metadata": {
    "collapsed": false
   },
   "outputs": [
    {
     "data": {
      "text/plain": [
       "{'init': 'epsg:4269'}"
      ]
     },
     "execution_count": 4,
     "metadata": {},
     "output_type": "execute_result"
    }
   ],
   "source": [
    "# Slightly curious, if you look it up.  But lon/lat\n",
    "edges.crs"
   ]
  },
  {
   "cell_type": "code",
   "execution_count": 5,
   "metadata": {
    "collapsed": false
   },
   "outputs": [
    {
     "data": {
      "text/plain": [
       "ARTPATH                                                       N\n",
       "COUNTYFP                                                    031\n",
       "DECKEDROAD                                                    N\n",
       "DIVROAD                                                       N\n",
       "EXTTYP                                                        N\n",
       "FEATCAT                                                       S\n",
       "FULLNAME                                              N Park Dr\n",
       "GCSEFLG                                                       N\n",
       "HYDROFLG                                                      N\n",
       "LFROMADD                                                   None\n",
       "LTOADD                                                     None\n",
       "MTFCC                                                     S1400\n",
       "OFFSETL                                                       N\n",
       "OFFSETR                                                       N\n",
       "OLFFLG                                                        N\n",
       "PASSFLG                                                    None\n",
       "PERSIST                                                    None\n",
       "RAILFLG                                                       N\n",
       "RFROMADD                                                   None\n",
       "ROADFLG                                                       Y\n",
       "RTOADD                                                     None\n",
       "SMID                                                       3204\n",
       "STATEFP                                                      17\n",
       "TFIDL                                                 205046777\n",
       "TFIDR                                                 205048609\n",
       "TLID                                                  111889108\n",
       "TNIDF                                                  66497785\n",
       "TNIDT                                                  66497786\n",
       "TTYP                                                       None\n",
       "ZIPL                                                       None\n",
       "ZIPR                                                       None\n",
       "geometry      LINESTRING (-87.61961199999999 41.890371999999...\n",
       "Name: 12, dtype: object"
      ]
     },
     "execution_count": 5,
     "metadata": {},
     "output_type": "execute_result"
    }
   ],
   "source": [
    "edges.ix[12]"
   ]
  },
  {
   "cell_type": "markdown",
   "metadata": {},
   "source": [
    "We only care about the columns \"geometry\" and \"FULLNAME\" (giving the road name) and LFROMADD, LTOADD, RFROMADD, RTOADD"
   ]
  },
  {
   "cell_type": "code",
   "execution_count": 6,
   "metadata": {
    "collapsed": false
   },
   "outputs": [
    {
     "data": {
      "text/html": [
       "<div>\n",
       "<table border=\"1\" class=\"dataframe\">\n",
       "  <thead>\n",
       "    <tr style=\"text-align: right;\">\n",
       "      <th></th>\n",
       "      <th>FULLNAME</th>\n",
       "      <th>LFROMADD</th>\n",
       "      <th>LTOADD</th>\n",
       "      <th>RFROMADD</th>\n",
       "      <th>RTOADD</th>\n",
       "      <th>geometry</th>\n",
       "    </tr>\n",
       "  </thead>\n",
       "  <tbody>\n",
       "    <tr>\n",
       "      <th>0</th>\n",
       "      <td>None</td>\n",
       "      <td>None</td>\n",
       "      <td>None</td>\n",
       "      <td>None</td>\n",
       "      <td>None</td>\n",
       "      <td>LINESTRING (-87.60164199999998 41.845196, -87....</td>\n",
       "    </tr>\n",
       "    <tr>\n",
       "      <th>1</th>\n",
       "      <td>None</td>\n",
       "      <td>None</td>\n",
       "      <td>None</td>\n",
       "      <td>None</td>\n",
       "      <td>None</td>\n",
       "      <td>LINESTRING (-87.11116199999998 42.149408999999...</td>\n",
       "    </tr>\n",
       "    <tr>\n",
       "      <th>2</th>\n",
       "      <td>None</td>\n",
       "      <td>None</td>\n",
       "      <td>None</td>\n",
       "      <td>None</td>\n",
       "      <td>None</td>\n",
       "      <td>LINESTRING (-87.62505699999998 42.071528, -87....</td>\n",
       "    </tr>\n",
       "    <tr>\n",
       "      <th>3</th>\n",
       "      <td>None</td>\n",
       "      <td>None</td>\n",
       "      <td>None</td>\n",
       "      <td>None</td>\n",
       "      <td>None</td>\n",
       "      <td>LINESTRING (-87.74845399999998 42.152859999999...</td>\n",
       "    </tr>\n",
       "    <tr>\n",
       "      <th>4</th>\n",
       "      <td>None</td>\n",
       "      <td>None</td>\n",
       "      <td>None</td>\n",
       "      <td>None</td>\n",
       "      <td>None</td>\n",
       "      <td>LINESTRING (-87.63278799999999 41.970942, -87....</td>\n",
       "    </tr>\n",
       "  </tbody>\n",
       "</table>\n",
       "</div>"
      ],
      "text/plain": [
       "  FULLNAME LFROMADD LTOADD RFROMADD RTOADD  \\\n",
       "0     None     None   None     None   None   \n",
       "1     None     None   None     None   None   \n",
       "2     None     None   None     None   None   \n",
       "3     None     None   None     None   None   \n",
       "4     None     None   None     None   None   \n",
       "\n",
       "                                            geometry  \n",
       "0  LINESTRING (-87.60164199999998 41.845196, -87....  \n",
       "1  LINESTRING (-87.11116199999998 42.149408999999...  \n",
       "2  LINESTRING (-87.62505699999998 42.071528, -87....  \n",
       "3  LINESTRING (-87.74845399999998 42.152859999999...  \n",
       "4  LINESTRING (-87.63278799999999 41.970942, -87....  "
      ]
     },
     "execution_count": 6,
     "metadata": {},
     "output_type": "execute_result"
    }
   ],
   "source": [
    "want = {\"geometry\", \"FULLNAME\", \"LFROMADD\", \"LTOADD\", \"RFROMADD\", \"RTOADD\"}\n",
    "edges = gpd.GeoDataFrame({key:edges[key] for key in want})\n",
    "edges.crs={'init': 'epsg:4269'}\n",
    "edges.head()"
   ]
  },
  {
   "cell_type": "code",
   "execution_count": 7,
   "metadata": {
    "collapsed": true
   },
   "outputs": [],
   "source": [
    "import open_cp.sources.chicago as chicago\n",
    "\n",
    "frame = chicago.load_to_geoDataFrame().dropna()"
   ]
  },
  {
   "cell_type": "markdown",
   "metadata": {},
   "source": [
    "# Optionally project and round?"
   ]
  },
  {
   "cell_type": "code",
   "execution_count": 8,
   "metadata": {
    "collapsed": true
   },
   "outputs": [],
   "source": [
    "frame = frame.to_crs({'init': 'epsg:3435', \"preserve_units\":True})"
   ]
  },
  {
   "cell_type": "code",
   "execution_count": 9,
   "metadata": {
    "collapsed": false
   },
   "outputs": [],
   "source": [
    "edges = edges.to_crs({'init': 'epsg:3435', \"preserve_units\":True})"
   ]
  },
  {
   "cell_type": "code",
   "execution_count": 111,
   "metadata": {
    "collapsed": false
   },
   "outputs": [],
   "source": [
    "xcs = frame.geometry.map(lambda pt : pt.coords[0][0])\n",
    "ycs = frame.geometry.map(lambda pt : pt.coords[0][1])\n",
    "import shapely.geometry\n",
    "import numpy as np\n",
    "frame.geometry = [shapely.geometry.Point(np.round(x), np.round(y)) for x,y in zip(xcs, ycs)]"
   ]
  },
  {
   "cell_type": "markdown",
   "metadata": {},
   "source": [
    "# Pick out one block\n",
    "\n",
    "We'll eventually iterate over each block, but let's just pick one."
   ]
  },
  {
   "cell_type": "code",
   "execution_count": 8,
   "metadata": {
    "collapsed": false
   },
   "outputs": [
    {
     "data": {
      "text/html": [
       "<div>\n",
       "<table border=\"1\" class=\"dataframe\">\n",
       "  <thead>\n",
       "    <tr style=\"text-align: right;\">\n",
       "      <th></th>\n",
       "      <th>address</th>\n",
       "      <th>case</th>\n",
       "      <th>crime</th>\n",
       "      <th>geometry</th>\n",
       "      <th>location</th>\n",
       "      <th>timestamp</th>\n",
       "      <th>type</th>\n",
       "    </tr>\n",
       "  </thead>\n",
       "  <tbody>\n",
       "    <tr>\n",
       "      <th>0</th>\n",
       "      <td>010XX N CENTRAL PARK AVE</td>\n",
       "      <td>HZ560767</td>\n",
       "      <td>OTHER OFFENSE</td>\n",
       "      <td>POINT (-87.71645415899999 41.899712716)</td>\n",
       "      <td>APARTMENT</td>\n",
       "      <td>2016-12-22T02:55:00</td>\n",
       "      <td>VIOLATE ORDER OF PROTECTION</td>\n",
       "    </tr>\n",
       "    <tr>\n",
       "      <th>21374</th>\n",
       "      <td>010XX N CENTRAL PARK AVE</td>\n",
       "      <td>JA210311</td>\n",
       "      <td>THEFT</td>\n",
       "      <td>POINT (-87.716462854 41.899954256)</td>\n",
       "      <td>VEHICLE NON-COMMERCIAL</td>\n",
       "      <td>2017-04-01T07:00:00</td>\n",
       "      <td>$500 AND UNDER</td>\n",
       "    </tr>\n",
       "    <tr>\n",
       "      <th>23295</th>\n",
       "      <td>010XX N CENTRAL PARK AVE</td>\n",
       "      <td>JA210493</td>\n",
       "      <td>ASSAULT</td>\n",
       "      <td>POINT (-87.71645193800001 41.899561771)</td>\n",
       "      <td>STREET</td>\n",
       "      <td>2017-04-03T08:03:00</td>\n",
       "      <td>AGGRAVATED: HANDGUN</td>\n",
       "    </tr>\n",
       "    <tr>\n",
       "      <th>24540</th>\n",
       "      <td>010XX N CENTRAL PARK AVE</td>\n",
       "      <td>HZ342785</td>\n",
       "      <td>BATTERY</td>\n",
       "      <td>POINT (-87.716457119 41.899786826)</td>\n",
       "      <td>RESIDENTIAL YARD (FRONT/BACK)</td>\n",
       "      <td>2016-07-09T22:40:00</td>\n",
       "      <td>AGGRAVATED: HANDGUN</td>\n",
       "    </tr>\n",
       "    <tr>\n",
       "      <th>54066</th>\n",
       "      <td>010XX N CENTRAL PARK AVE</td>\n",
       "      <td>HZ259442</td>\n",
       "      <td>NARCOTICS</td>\n",
       "      <td>POINT (-87.716463039 41.899935047)</td>\n",
       "      <td>ALLEY</td>\n",
       "      <td>2016-05-10T20:57:00</td>\n",
       "      <td>POSS: HEROIN(WHITE)</td>\n",
       "    </tr>\n",
       "  </tbody>\n",
       "</table>\n",
       "</div>"
      ],
      "text/plain": [
       "                        address      case          crime  \\\n",
       "0      010XX N CENTRAL PARK AVE  HZ560767  OTHER OFFENSE   \n",
       "21374  010XX N CENTRAL PARK AVE  JA210311          THEFT   \n",
       "23295  010XX N CENTRAL PARK AVE  JA210493        ASSAULT   \n",
       "24540  010XX N CENTRAL PARK AVE  HZ342785        BATTERY   \n",
       "54066  010XX N CENTRAL PARK AVE  HZ259442      NARCOTICS   \n",
       "\n",
       "                                      geometry                       location  \\\n",
       "0      POINT (-87.71645415899999 41.899712716)                      APARTMENT   \n",
       "21374       POINT (-87.716462854 41.899954256)         VEHICLE NON-COMMERCIAL   \n",
       "23295  POINT (-87.71645193800001 41.899561771)                         STREET   \n",
       "24540       POINT (-87.716457119 41.899786826)  RESIDENTIAL YARD (FRONT/BACK)   \n",
       "54066       POINT (-87.716463039 41.899935047)                          ALLEY   \n",
       "\n",
       "                 timestamp                         type  \n",
       "0      2016-12-22T02:55:00  VIOLATE ORDER OF PROTECTION  \n",
       "21374  2017-04-01T07:00:00               $500 AND UNDER  \n",
       "23295  2017-04-03T08:03:00          AGGRAVATED: HANDGUN  \n",
       "24540  2016-07-09T22:40:00          AGGRAVATED: HANDGUN  \n",
       "54066  2016-05-10T20:57:00          POSS: HEROIN(WHITE)  "
      ]
     },
     "execution_count": 8,
     "metadata": {},
     "output_type": "execute_result"
    }
   ],
   "source": [
    "one = frame[frame.address == frame.address.unique()[0]].copy()\n",
    "one.head()"
   ]
  },
  {
   "cell_type": "markdown",
   "metadata": {},
   "source": [
    "# Distances"
   ]
  },
  {
   "cell_type": "code",
   "execution_count": 9,
   "metadata": {
    "collapsed": false
   },
   "outputs": [
    {
     "data": {
      "text/html": [
       "<div>\n",
       "<table border=\"1\" class=\"dataframe\">\n",
       "  <thead>\n",
       "    <tr style=\"text-align: right;\">\n",
       "      <th></th>\n",
       "      <th>address</th>\n",
       "      <th>case</th>\n",
       "      <th>crime</th>\n",
       "      <th>geometry</th>\n",
       "      <th>location</th>\n",
       "      <th>timestamp</th>\n",
       "      <th>type</th>\n",
       "      <th>edge_index</th>\n",
       "    </tr>\n",
       "  </thead>\n",
       "  <tbody>\n",
       "    <tr>\n",
       "      <th>0</th>\n",
       "      <td>010XX N CENTRAL PARK AVE</td>\n",
       "      <td>HZ560767</td>\n",
       "      <td>OTHER OFFENSE</td>\n",
       "      <td>POINT (-87.71645415899999 41.899712716)</td>\n",
       "      <td>APARTMENT</td>\n",
       "      <td>2016-12-22T02:55:00</td>\n",
       "      <td>VIOLATE ORDER OF PROTECTION</td>\n",
       "      <td>164302</td>\n",
       "    </tr>\n",
       "    <tr>\n",
       "      <th>21374</th>\n",
       "      <td>010XX N CENTRAL PARK AVE</td>\n",
       "      <td>JA210311</td>\n",
       "      <td>THEFT</td>\n",
       "      <td>POINT (-87.716462854 41.899954256)</td>\n",
       "      <td>VEHICLE NON-COMMERCIAL</td>\n",
       "      <td>2017-04-01T07:00:00</td>\n",
       "      <td>$500 AND UNDER</td>\n",
       "      <td>164302</td>\n",
       "    </tr>\n",
       "    <tr>\n",
       "      <th>23295</th>\n",
       "      <td>010XX N CENTRAL PARK AVE</td>\n",
       "      <td>JA210493</td>\n",
       "      <td>ASSAULT</td>\n",
       "      <td>POINT (-87.71645193800001 41.899561771)</td>\n",
       "      <td>STREET</td>\n",
       "      <td>2017-04-03T08:03:00</td>\n",
       "      <td>AGGRAVATED: HANDGUN</td>\n",
       "      <td>164302</td>\n",
       "    </tr>\n",
       "    <tr>\n",
       "      <th>24540</th>\n",
       "      <td>010XX N CENTRAL PARK AVE</td>\n",
       "      <td>HZ342785</td>\n",
       "      <td>BATTERY</td>\n",
       "      <td>POINT (-87.716457119 41.899786826)</td>\n",
       "      <td>RESIDENTIAL YARD (FRONT/BACK)</td>\n",
       "      <td>2016-07-09T22:40:00</td>\n",
       "      <td>AGGRAVATED: HANDGUN</td>\n",
       "      <td>164302</td>\n",
       "    </tr>\n",
       "    <tr>\n",
       "      <th>54066</th>\n",
       "      <td>010XX N CENTRAL PARK AVE</td>\n",
       "      <td>HZ259442</td>\n",
       "      <td>NARCOTICS</td>\n",
       "      <td>POINT (-87.716463039 41.899935047)</td>\n",
       "      <td>ALLEY</td>\n",
       "      <td>2016-05-10T20:57:00</td>\n",
       "      <td>POSS: HEROIN(WHITE)</td>\n",
       "      <td>164302</td>\n",
       "    </tr>\n",
       "  </tbody>\n",
       "</table>\n",
       "</div>"
      ],
      "text/plain": [
       "                        address      case          crime  \\\n",
       "0      010XX N CENTRAL PARK AVE  HZ560767  OTHER OFFENSE   \n",
       "21374  010XX N CENTRAL PARK AVE  JA210311          THEFT   \n",
       "23295  010XX N CENTRAL PARK AVE  JA210493        ASSAULT   \n",
       "24540  010XX N CENTRAL PARK AVE  HZ342785        BATTERY   \n",
       "54066  010XX N CENTRAL PARK AVE  HZ259442      NARCOTICS   \n",
       "\n",
       "                                      geometry                       location  \\\n",
       "0      POINT (-87.71645415899999 41.899712716)                      APARTMENT   \n",
       "21374       POINT (-87.716462854 41.899954256)         VEHICLE NON-COMMERCIAL   \n",
       "23295  POINT (-87.71645193800001 41.899561771)                         STREET   \n",
       "24540       POINT (-87.716457119 41.899786826)  RESIDENTIAL YARD (FRONT/BACK)   \n",
       "54066       POINT (-87.716463039 41.899935047)                          ALLEY   \n",
       "\n",
       "                 timestamp                         type  edge_index  \n",
       "0      2016-12-22T02:55:00  VIOLATE ORDER OF PROTECTION      164302  \n",
       "21374  2017-04-01T07:00:00               $500 AND UNDER      164302  \n",
       "23295  2017-04-03T08:03:00          AGGRAVATED: HANDGUN      164302  \n",
       "24540  2016-07-09T22:40:00          AGGRAVATED: HANDGUN      164302  \n",
       "54066  2016-05-10T20:57:00          POSS: HEROIN(WHITE)      164302  "
      ]
     },
     "execution_count": 9,
     "metadata": {},
     "output_type": "execute_result"
    }
   ],
   "source": [
    "def find_match_via_distance(point):\n",
    "    dist = edges.geometry.distance(point)\n",
    "    return edges.ix[dist.argmin]\n",
    "\n",
    "def via_distance(one):\n",
    "    return [ find_match_via_distance(point).name for point in one.geometry ]\n",
    "\n",
    "one[\"edge_index\"] = via_distance(one)\n",
    "one.head()"
   ]
  },
  {
   "cell_type": "markdown",
   "metadata": {},
   "source": [
    "# Intersections"
   ]
  },
  {
   "cell_type": "code",
   "execution_count": 10,
   "metadata": {
    "collapsed": false
   },
   "outputs": [
    {
     "data": {
      "text/html": [
       "<div>\n",
       "<table border=\"1\" class=\"dataframe\">\n",
       "  <thead>\n",
       "    <tr style=\"text-align: right;\">\n",
       "      <th></th>\n",
       "      <th>address</th>\n",
       "      <th>case</th>\n",
       "      <th>crime</th>\n",
       "      <th>geometry</th>\n",
       "      <th>location</th>\n",
       "      <th>timestamp</th>\n",
       "      <th>type</th>\n",
       "      <th>edge_index</th>\n",
       "      <th>edge_index1</th>\n",
       "    </tr>\n",
       "  </thead>\n",
       "  <tbody>\n",
       "    <tr>\n",
       "      <th>0</th>\n",
       "      <td>010XX N CENTRAL PARK AVE</td>\n",
       "      <td>HZ560767</td>\n",
       "      <td>OTHER OFFENSE</td>\n",
       "      <td>POINT (-87.71645415899999 41.899712716)</td>\n",
       "      <td>APARTMENT</td>\n",
       "      <td>2016-12-22T02:55:00</td>\n",
       "      <td>VIOLATE ORDER OF PROTECTION</td>\n",
       "      <td>164302</td>\n",
       "      <td>164302</td>\n",
       "    </tr>\n",
       "    <tr>\n",
       "      <th>21374</th>\n",
       "      <td>010XX N CENTRAL PARK AVE</td>\n",
       "      <td>JA210311</td>\n",
       "      <td>THEFT</td>\n",
       "      <td>POINT (-87.716462854 41.899954256)</td>\n",
       "      <td>VEHICLE NON-COMMERCIAL</td>\n",
       "      <td>2017-04-01T07:00:00</td>\n",
       "      <td>$500 AND UNDER</td>\n",
       "      <td>164302</td>\n",
       "      <td>164302</td>\n",
       "    </tr>\n",
       "    <tr>\n",
       "      <th>23295</th>\n",
       "      <td>010XX N CENTRAL PARK AVE</td>\n",
       "      <td>JA210493</td>\n",
       "      <td>ASSAULT</td>\n",
       "      <td>POINT (-87.71645193800001 41.899561771)</td>\n",
       "      <td>STREET</td>\n",
       "      <td>2017-04-03T08:03:00</td>\n",
       "      <td>AGGRAVATED: HANDGUN</td>\n",
       "      <td>164302</td>\n",
       "      <td>164302</td>\n",
       "    </tr>\n",
       "    <tr>\n",
       "      <th>24540</th>\n",
       "      <td>010XX N CENTRAL PARK AVE</td>\n",
       "      <td>HZ342785</td>\n",
       "      <td>BATTERY</td>\n",
       "      <td>POINT (-87.716457119 41.899786826)</td>\n",
       "      <td>RESIDENTIAL YARD (FRONT/BACK)</td>\n",
       "      <td>2016-07-09T22:40:00</td>\n",
       "      <td>AGGRAVATED: HANDGUN</td>\n",
       "      <td>164302</td>\n",
       "      <td>164302</td>\n",
       "    </tr>\n",
       "    <tr>\n",
       "      <th>54066</th>\n",
       "      <td>010XX N CENTRAL PARK AVE</td>\n",
       "      <td>HZ259442</td>\n",
       "      <td>NARCOTICS</td>\n",
       "      <td>POINT (-87.716463039 41.899935047)</td>\n",
       "      <td>ALLEY</td>\n",
       "      <td>2016-05-10T20:57:00</td>\n",
       "      <td>POSS: HEROIN(WHITE)</td>\n",
       "      <td>164302</td>\n",
       "      <td>164302</td>\n",
       "    </tr>\n",
       "  </tbody>\n",
       "</table>\n",
       "</div>"
      ],
      "text/plain": [
       "                        address      case          crime  \\\n",
       "0      010XX N CENTRAL PARK AVE  HZ560767  OTHER OFFENSE   \n",
       "21374  010XX N CENTRAL PARK AVE  JA210311          THEFT   \n",
       "23295  010XX N CENTRAL PARK AVE  JA210493        ASSAULT   \n",
       "24540  010XX N CENTRAL PARK AVE  HZ342785        BATTERY   \n",
       "54066  010XX N CENTRAL PARK AVE  HZ259442      NARCOTICS   \n",
       "\n",
       "                                      geometry                       location  \\\n",
       "0      POINT (-87.71645415899999 41.899712716)                      APARTMENT   \n",
       "21374       POINT (-87.716462854 41.899954256)         VEHICLE NON-COMMERCIAL   \n",
       "23295  POINT (-87.71645193800001 41.899561771)                         STREET   \n",
       "24540       POINT (-87.716457119 41.899786826)  RESIDENTIAL YARD (FRONT/BACK)   \n",
       "54066       POINT (-87.716463039 41.899935047)                          ALLEY   \n",
       "\n",
       "                 timestamp                         type  edge_index  \\\n",
       "0      2016-12-22T02:55:00  VIOLATE ORDER OF PROTECTION      164302   \n",
       "21374  2017-04-01T07:00:00               $500 AND UNDER      164302   \n",
       "23295  2017-04-03T08:03:00          AGGRAVATED: HANDGUN      164302   \n",
       "24540  2016-07-09T22:40:00          AGGRAVATED: HANDGUN      164302   \n",
       "54066  2016-05-10T20:57:00          POSS: HEROIN(WHITE)      164302   \n",
       "\n",
       "       edge_index1  \n",
       "0           164302  \n",
       "21374       164302  \n",
       "23295       164302  \n",
       "24540       164302  \n",
       "54066       164302  "
      ]
     },
     "execution_count": 10,
     "metadata": {},
     "output_type": "execute_result"
    }
   ],
   "source": [
    "def find_match_via_intersection(point):\n",
    "    possibles = edges[edges.geometry.intersects( point.buffer(0.001) )]\n",
    "    i = possibles.geometry.distance(point).argmin()\n",
    "    return edges.ix[i]\n",
    "\n",
    "def via_intersection(one):\n",
    "    return [ find_match_via_intersection(point).name\n",
    "        for point in one.geometry ]\n",
    "    \n",
    "one[\"edge_index1\"] = via_intersection(one)\n",
    "one.head()"
   ]
  },
  {
   "cell_type": "code",
   "execution_count": 11,
   "metadata": {
    "collapsed": false
   },
   "outputs": [
    {
     "data": {
      "text/plain": [
       "True"
      ]
     },
     "execution_count": 11,
     "metadata": {},
     "output_type": "execute_result"
    }
   ],
   "source": [
    "np.all(one.edge_index == one.edge_index1)"
   ]
  },
  {
   "cell_type": "markdown",
   "metadata": {},
   "source": [
    "# Via rtree\n",
    "\n",
    "We'll use an [R-Tree](https://en.wikipedia.org/wiki/R-tree).  Building the initial index takes a bit of time, but it's vastly quicker once you have the index."
   ]
  },
  {
   "cell_type": "code",
   "execution_count": 12,
   "metadata": {
    "collapsed": true
   },
   "outputs": [],
   "source": [
    "import rtree"
   ]
  },
  {
   "cell_type": "code",
   "execution_count": 13,
   "metadata": {
    "collapsed": false
   },
   "outputs": [],
   "source": [
    "gap = 0.001\n",
    "\n",
    "def gen():\n",
    "    for i, row in edges.iterrows():\n",
    "        bds = list(row.geometry.bounds)\n",
    "        bds = [bds[0]-gap, bds[1]-gap, bds[2]+gap, bds[3]+gap]\n",
    "        yield i, bds, None\n",
    "        \n",
    "idx = rtree.index.Index(gen())"
   ]
  },
  {
   "cell_type": "code",
   "execution_count": 24,
   "metadata": {
    "collapsed": false
   },
   "outputs": [
    {
     "data": {
      "text/html": [
       "<div>\n",
       "<table border=\"1\" class=\"dataframe\">\n",
       "  <thead>\n",
       "    <tr style=\"text-align: right;\">\n",
       "      <th></th>\n",
       "      <th>address</th>\n",
       "      <th>case</th>\n",
       "      <th>crime</th>\n",
       "      <th>geometry</th>\n",
       "      <th>location</th>\n",
       "      <th>timestamp</th>\n",
       "      <th>type</th>\n",
       "      <th>edge_index</th>\n",
       "      <th>edge_index1</th>\n",
       "      <th>edge_index2</th>\n",
       "    </tr>\n",
       "  </thead>\n",
       "  <tbody>\n",
       "    <tr>\n",
       "      <th>0</th>\n",
       "      <td>010XX N CENTRAL PARK AVE</td>\n",
       "      <td>HZ560767</td>\n",
       "      <td>OTHER OFFENSE</td>\n",
       "      <td>POINT (-87.71645415899999 41.899712716)</td>\n",
       "      <td>APARTMENT</td>\n",
       "      <td>2016-12-22T02:55:00</td>\n",
       "      <td>VIOLATE ORDER OF PROTECTION</td>\n",
       "      <td>164302</td>\n",
       "      <td>164302</td>\n",
       "      <td>164302</td>\n",
       "    </tr>\n",
       "    <tr>\n",
       "      <th>21374</th>\n",
       "      <td>010XX N CENTRAL PARK AVE</td>\n",
       "      <td>JA210311</td>\n",
       "      <td>THEFT</td>\n",
       "      <td>POINT (-87.716462854 41.899954256)</td>\n",
       "      <td>VEHICLE NON-COMMERCIAL</td>\n",
       "      <td>2017-04-01T07:00:00</td>\n",
       "      <td>$500 AND UNDER</td>\n",
       "      <td>164302</td>\n",
       "      <td>164302</td>\n",
       "      <td>164302</td>\n",
       "    </tr>\n",
       "    <tr>\n",
       "      <th>23295</th>\n",
       "      <td>010XX N CENTRAL PARK AVE</td>\n",
       "      <td>JA210493</td>\n",
       "      <td>ASSAULT</td>\n",
       "      <td>POINT (-87.71645193800001 41.899561771)</td>\n",
       "      <td>STREET</td>\n",
       "      <td>2017-04-03T08:03:00</td>\n",
       "      <td>AGGRAVATED: HANDGUN</td>\n",
       "      <td>164302</td>\n",
       "      <td>164302</td>\n",
       "      <td>164302</td>\n",
       "    </tr>\n",
       "    <tr>\n",
       "      <th>24540</th>\n",
       "      <td>010XX N CENTRAL PARK AVE</td>\n",
       "      <td>HZ342785</td>\n",
       "      <td>BATTERY</td>\n",
       "      <td>POINT (-87.716457119 41.899786826)</td>\n",
       "      <td>RESIDENTIAL YARD (FRONT/BACK)</td>\n",
       "      <td>2016-07-09T22:40:00</td>\n",
       "      <td>AGGRAVATED: HANDGUN</td>\n",
       "      <td>164302</td>\n",
       "      <td>164302</td>\n",
       "      <td>164302</td>\n",
       "    </tr>\n",
       "    <tr>\n",
       "      <th>54066</th>\n",
       "      <td>010XX N CENTRAL PARK AVE</td>\n",
       "      <td>HZ259442</td>\n",
       "      <td>NARCOTICS</td>\n",
       "      <td>POINT (-87.716463039 41.899935047)</td>\n",
       "      <td>ALLEY</td>\n",
       "      <td>2016-05-10T20:57:00</td>\n",
       "      <td>POSS: HEROIN(WHITE)</td>\n",
       "      <td>164302</td>\n",
       "      <td>164302</td>\n",
       "      <td>164302</td>\n",
       "    </tr>\n",
       "  </tbody>\n",
       "</table>\n",
       "</div>"
      ],
      "text/plain": [
       "                        address      case          crime  \\\n",
       "0      010XX N CENTRAL PARK AVE  HZ560767  OTHER OFFENSE   \n",
       "21374  010XX N CENTRAL PARK AVE  JA210311          THEFT   \n",
       "23295  010XX N CENTRAL PARK AVE  JA210493        ASSAULT   \n",
       "24540  010XX N CENTRAL PARK AVE  HZ342785        BATTERY   \n",
       "54066  010XX N CENTRAL PARK AVE  HZ259442      NARCOTICS   \n",
       "\n",
       "                                      geometry                       location  \\\n",
       "0      POINT (-87.71645415899999 41.899712716)                      APARTMENT   \n",
       "21374       POINT (-87.716462854 41.899954256)         VEHICLE NON-COMMERCIAL   \n",
       "23295  POINT (-87.71645193800001 41.899561771)                         STREET   \n",
       "24540       POINT (-87.716457119 41.899786826)  RESIDENTIAL YARD (FRONT/BACK)   \n",
       "54066       POINT (-87.716463039 41.899935047)                          ALLEY   \n",
       "\n",
       "                 timestamp                         type  edge_index  \\\n",
       "0      2016-12-22T02:55:00  VIOLATE ORDER OF PROTECTION      164302   \n",
       "21374  2017-04-01T07:00:00               $500 AND UNDER      164302   \n",
       "23295  2017-04-03T08:03:00          AGGRAVATED: HANDGUN      164302   \n",
       "24540  2016-07-09T22:40:00          AGGRAVATED: HANDGUN      164302   \n",
       "54066  2016-05-10T20:57:00          POSS: HEROIN(WHITE)      164302   \n",
       "\n",
       "       edge_index1  edge_index2  \n",
       "0           164302       164302  \n",
       "21374       164302       164302  \n",
       "23295       164302       164302  \n",
       "24540       164302       164302  \n",
       "54066       164302       164302  "
      ]
     },
     "execution_count": 24,
     "metadata": {},
     "output_type": "execute_result"
    }
   ],
   "source": [
    "def find_match_via_rtree(point):\n",
    "    possibles = edges.ix[list(idx.intersection(point.coords[0]))]\n",
    "    if len(possibles) == 0:\n",
    "        #raise ValueError(\"Found no candidates for {}\".format(point))\n",
    "        from collections import namedtuple\n",
    "        Error = namedtuple(\"Error\", [\"name\"])\n",
    "        return Error(name=-1)\n",
    "    i = possibles.geometry.distance(point).argmin()\n",
    "    return edges.ix[i]\n",
    "\n",
    "def via_rtree(one):\n",
    "    return [ find_match_via_rtree(point).name\n",
    "        for point in one.geometry ]\n",
    "    \n",
    "one[\"edge_index2\"] = via_rtree(one)\n",
    "one.head()"
   ]
  },
  {
   "cell_type": "code",
   "execution_count": 15,
   "metadata": {
    "collapsed": false
   },
   "outputs": [
    {
     "data": {
      "text/plain": [
       "True"
      ]
     },
     "execution_count": 15,
     "metadata": {},
     "output_type": "execute_result"
    }
   ],
   "source": [
    "all(one.edge_index1 == one.edge_index2)"
   ]
  },
  {
   "cell_type": "code",
   "execution_count": 16,
   "metadata": {
    "collapsed": false
   },
   "outputs": [
    {
     "name": "stdout",
     "output_type": "stream",
     "text": [
      "1 loop, best of 3: 36.4 s per loop\n"
     ]
    }
   ],
   "source": [
    "%timeit(via_distance(one))"
   ]
  },
  {
   "cell_type": "code",
   "execution_count": 17,
   "metadata": {
    "collapsed": false,
    "scrolled": true
   },
   "outputs": [
    {
     "name": "stdout",
     "output_type": "stream",
     "text": [
      "1 loop, best of 3: 26.7 s per loop\n"
     ]
    }
   ],
   "source": [
    "%timeit(via_intersection(one))"
   ]
  },
  {
   "cell_type": "code",
   "execution_count": 18,
   "metadata": {
    "collapsed": false
   },
   "outputs": [
    {
     "name": "stdout",
     "output_type": "stream",
     "text": [
      "100 loops, best of 3: 14.3 ms per loop\n"
     ]
    }
   ],
   "source": [
    "%timeit(via_rtree(one))"
   ]
  },
  {
   "cell_type": "markdown",
   "metadata": {
    "collapsed": true
   },
   "source": [
    "## Check we always get the same result"
   ]
  },
  {
   "cell_type": "code",
   "execution_count": 17,
   "metadata": {
    "collapsed": false
   },
   "outputs": [],
   "source": [
    "for i in frame.index[100:200]:\n",
    "    pt = frame.ix[i].geometry\n",
    "    a = find_match_via_distance(pt).name\n",
    "    b = find_match_via_intersection(pt).name\n",
    "    c = find_match_via_rtree(pt).name\n",
    "    assert a == b\n",
    "    assert b == c"
   ]
  },
  {
   "cell_type": "markdown",
   "metadata": {
    "collapsed": true
   },
   "source": [
    "# Process the entire dataset\n",
    "\n",
    "The procedure doesn't quite work, which is why the modification above to return \"-1\" on failure to find.\n",
    "\n",
    "What is then amusing is that _all_ the failures occur at the airport, which in hindsight seems reasonable!"
   ]
  },
  {
   "cell_type": "code",
   "execution_count": 25,
   "metadata": {
    "collapsed": false
   },
   "outputs": [],
   "source": [
    "frame[\"edge_index\"] = via_rtree(frame)"
   ]
  },
  {
   "cell_type": "code",
   "execution_count": 28,
   "metadata": {
    "collapsed": false
   },
   "outputs": [
    {
     "data": {
      "text/plain": [
       "array(['AIRCRAFT', 'AIRPORT BUILDING NON-TERMINAL - SECURE AREA',\n",
       "       'AIRPORT TERMINAL LOWER LEVEL - SECURE AREA',\n",
       "       'AIRPORT TERMINAL UPPER LEVEL - SECURE AREA', 'OTHER',\n",
       "       'AIRPORT BUILDING NON-TERMINAL - NON-SECURE AREA',\n",
       "       'AIRPORT EXTERIOR - SECURE AREA',\n",
       "       'AIRPORT EXTERIOR - NON-SECURE AREA', 'AIRPORT/AIRCRAFT',\n",
       "       'AIRPORT PARKING LOT', 'AIRPORT VENDING ESTABLISHMENT'], dtype=object)"
      ]
     },
     "execution_count": 28,
     "metadata": {},
     "output_type": "execute_result"
    }
   ],
   "source": [
    "frame[frame.edge_index == -1].location.unique()"
   ]
  },
  {
   "cell_type": "code",
   "execution_count": 30,
   "metadata": {
    "collapsed": false
   },
   "outputs": [],
   "source": [
    "frame = frame[frame.edge_index != -1].copy()"
   ]
  },
  {
   "cell_type": "code",
   "execution_count": 35,
   "metadata": {
    "collapsed": false,
    "scrolled": true
   },
   "outputs": [
    {
     "data": {
      "text/html": [
       "<div>\n",
       "<table border=\"1\" class=\"dataframe\">\n",
       "  <thead>\n",
       "    <tr style=\"text-align: right;\">\n",
       "      <th></th>\n",
       "      <th>case</th>\n",
       "      <th>edge</th>\n",
       "    </tr>\n",
       "  </thead>\n",
       "  <tbody>\n",
       "    <tr>\n",
       "      <th>0</th>\n",
       "      <td>HZ560767</td>\n",
       "      <td>164302</td>\n",
       "    </tr>\n",
       "    <tr>\n",
       "      <th>1</th>\n",
       "      <td>HZ561134</td>\n",
       "      <td>208575</td>\n",
       "    </tr>\n",
       "    <tr>\n",
       "      <th>2</th>\n",
       "      <td>HZ565584</td>\n",
       "      <td>163466</td>\n",
       "    </tr>\n",
       "    <tr>\n",
       "      <th>3</th>\n",
       "      <td>HZ561772</td>\n",
       "      <td>87269</td>\n",
       "    </tr>\n",
       "    <tr>\n",
       "      <th>4</th>\n",
       "      <td>HZ561969</td>\n",
       "      <td>133687</td>\n",
       "    </tr>\n",
       "  </tbody>\n",
       "</table>\n",
       "</div>"
      ],
      "text/plain": [
       "       case    edge\n",
       "0  HZ560767  164302\n",
       "1  HZ561134  208575\n",
       "2  HZ565584  163466\n",
       "3  HZ561772   87269\n",
       "4  HZ561969  133687"
      ]
     },
     "execution_count": 35,
     "metadata": {},
     "output_type": "execute_result"
    }
   ],
   "source": [
    "lookup = pd.DataFrame({\"case\": frame.case, \"edge\":frame.edge_index})\n",
    "lookup.head()"
   ]
  },
  {
   "cell_type": "code",
   "execution_count": 36,
   "metadata": {
    "collapsed": true
   },
   "outputs": [],
   "source": [
    "lookup.to_csv(\"edge_lookup.csv\")"
   ]
  },
  {
   "cell_type": "markdown",
   "metadata": {},
   "source": [
    "# Some common issues found\n",
    "\n",
    "- Sometimes the \"edges\" returned are not continuous.  This can be correct (e.g. two sides of multi-lane highway).  It can also be a \"problem\" in the sense that we miss a section of a block.  *Possible fix:* Decode the string \"028XX N MIL...\" to detect we want all numbers between 2800 and 2899.  Then fetch all these edges?\n",
    "- Sometimes there is a genuine error in the data, and a coordinate doesn't match the claimed block at all.\n",
    "- Sometimes there is a small \"closest point error\" on our part, and we accidently pick up an edge with a different name (or no name at all (e.g. an alleyway).  *Possible fix:* Let democracy decide upon the correct name; remove all edges which don't match; combine with 1st idea about to add other possible edges (this _will_ be needed); check for genuine outliers."
   ]
  },
  {
   "cell_type": "code",
   "execution_count": null,
   "metadata": {
    "collapsed": true
   },
   "outputs": [],
   "source": []
  },
  {
   "cell_type": "code",
   "execution_count": null,
   "metadata": {
    "collapsed": true
   },
   "outputs": [],
   "source": []
  },
  {
   "cell_type": "markdown",
   "metadata": {
    "collapsed": true
   },
   "source": [
    "# Analyse the lookup\n",
    "\n",
    "- '0000X E GRAND AVE' Seems to be an error?\n",
    "\n",
    "- '028XX N MILWAUKEE AVE' is an example where the closest point method just gets it wrong.  Here it would be appropriate to then look at all the edges, select all those in the correct address range, and etc.\n",
    "\n",
    "- '080XX S PULASKI RD' Nothing wrong, but we miss a part of the road (so again joni with all edges...)\n",
    "\n",
    "- '020XX E 71ST ST'  A genuinely split road (east and west lanes).  We also pick up an \"alley\".  This could be discarded without issue.\n",
    "\n",
    "- '026XX W NORTH AVE' In the \"unbalanced aspect ratio\" plot, the points don't match the edge."
   ]
  },
  {
   "cell_type": "code",
   "execution_count": 8,
   "metadata": {
    "collapsed": false
   },
   "outputs": [],
   "source": [
    "lookup = pd.read_csv(\"edge_lookup.csv\", names = [\"case\", \"edge\"], header=0)\n",
    "\n",
    "# Make a lookup.  This breaks things for \"HOMICIDE\" crime, but we don't care.\n",
    "l = dict()\n",
    "for _, row in lookup.iterrows():\n",
    "    l[row.case] = row.edge\n",
    "lookup = l"
   ]
  },
  {
   "cell_type": "code",
   "execution_count": 403,
   "metadata": {
    "collapsed": false
   },
   "outputs": [
    {
     "data": {
      "text/plain": [
       "'002XX E 116TH ST'"
      ]
     },
     "execution_count": 403,
     "metadata": {},
     "output_type": "execute_result"
    }
   ],
   "source": [
    "block = frame.address.unique()[132]\n",
    "block"
   ]
  },
  {
   "cell_type": "code",
   "execution_count": 404,
   "metadata": {
    "collapsed": false
   },
   "outputs": [
    {
     "data": {
      "text/plain": [
       "{53732}"
      ]
     },
     "execution_count": 404,
     "metadata": {},
     "output_type": "execute_result"
    }
   ],
   "source": [
    "edge_ids = set()\n",
    "for case in frame[frame.address == block].case:\n",
    "    edge_ids.add(lookup[case])\n",
    "edge_ids"
   ]
  },
  {
   "cell_type": "code",
   "execution_count": 405,
   "metadata": {
    "collapsed": false
   },
   "outputs": [
    {
     "data": {
      "text/html": [
       "<div>\n",
       "<table border=\"1\" class=\"dataframe\">\n",
       "  <thead>\n",
       "    <tr style=\"text-align: right;\">\n",
       "      <th></th>\n",
       "      <th>FULLNAME</th>\n",
       "      <th>LFROMADD</th>\n",
       "      <th>LTOADD</th>\n",
       "      <th>RFROMADD</th>\n",
       "      <th>RTOADD</th>\n",
       "      <th>geometry</th>\n",
       "    </tr>\n",
       "  </thead>\n",
       "  <tbody>\n",
       "    <tr>\n",
       "      <th>53732</th>\n",
       "      <td>E 116th St</td>\n",
       "      <td>200</td>\n",
       "      <td>298</td>\n",
       "      <td>201</td>\n",
       "      <td>299</td>\n",
       "      <td>LINESTRING (-87.61794199999999 41.682576999999...</td>\n",
       "    </tr>\n",
       "  </tbody>\n",
       "</table>\n",
       "</div>"
      ],
      "text/plain": [
       "         FULLNAME LFROMADD LTOADD RFROMADD RTOADD  \\\n",
       "53732  E 116th St      200    298      201    299   \n",
       "\n",
       "                                                geometry  \n",
       "53732  LINESTRING (-87.61794199999999 41.682576999999...  "
      ]
     },
     "execution_count": 405,
     "metadata": {},
     "output_type": "execute_result"
    }
   ],
   "source": [
    "edges.ix[edge_ids]"
   ]
  },
  {
   "cell_type": "code",
   "execution_count": 406,
   "metadata": {
    "collapsed": false
   },
   "outputs": [
    {
     "data": {
      "image/png": "[encoded data removed]",
      "text/plain": [
       "<matplotlib.figure.Figure at 0x1f5e2ef8588>"
      ]
     },
     "metadata": {},
     "output_type": "display_data"
    }
   ],
   "source": [
    "def get_xy(frame):\n",
    "    x = frame.geometry.map(lambda pt : pt.coords[0][0])\n",
    "    y = frame.geometry.map(lambda pt : pt.coords[0][1])\n",
    "    return x, y\n",
    "\n",
    "fig, axes = plt.subplots(ncols=2, figsize=(16,8))\n",
    "for ax in axes:\n",
    "    edges.ix[edge_ids].plot(ax=ax, color=\"black\")\n",
    "    ax.scatter(*get_xy(frame[frame.address == block]), color=\"blue\", marker=\"x\")\n",
    "axes[1].set_aspect(1)\n",
    "None"
   ]
  },
  {
   "cell_type": "code",
   "execution_count": null,
   "metadata": {
    "collapsed": true
   },
   "outputs": [],
   "source": []
  }
 ],
 "metadata": {
  "kernelspec": {
   "display_name": "Python 3",
   "language": "python",
   "name": "python3"
  },
  "language_info": {
   "codemirror_mode": {
    "name": "ipython",
    "version": 3
   },
   "file_extension": ".py",
   "mimetype": "text/x-python",
   "name": "python",
   "nbconvert_exporter": "python",
   "pygments_lexer": "ipython3",
   "version": "3.6.0"
  }
 },
 "nbformat": 4,
 "nbformat_minor": 2
}
