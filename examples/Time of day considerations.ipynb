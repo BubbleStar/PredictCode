{
 "cells": [
  {
   "cell_type": "markdown",
   "metadata": {},
   "source": [
    "## Introduction\n",
    "\n",
    "Underpinning all of the prediction techniques are models which assume \"repeat\" or \"near-repeat\" victimisation: the tendancy for one crime event at a location to give rise to an increased risk of other events at the same, or similar, locations in the future.\n",
    "\n",
    "Missing from most of these models is an analysis of time of day effects.  A crime event in the evening might imply increased risk only on subsequent evenings, with perhaps no increased risk in the morning?\n",
    "\n",
    "We are not aware of any _detailed_ prediction algorithms incorporting such analysis, and so we offer no implementations.  However, this document contains some discussion of the literature."
   ]
  },
  {
   "cell_type": "markdown",
   "metadata": {},
   "source": [
    "# Sources\n",
    "\n",
    "1. Fielding, Jones, \"'Disrupting the optimal forager': predictive risk mapping and domestic burglary reduction in Trafford, Greater Manchester\", International Journal of Police Science & Management 2012, doi:10.1350/ijps.2012.14.1.260\n",
    "\n",
    "2. Johnson et al., \"Prospective crime mapping in operational context\", Home Office Online Report 19/07  [Police online library](http://library.college.police.uk/docs/hordsolr/rdsolr1907.pdf)\n",
    "\n",
    "3. Ratcliffe, \"Aoristic analysis: the spatial interpretation of unspecific temporal events\" [doi:10.1080/136588100424963](http://dx.doi.org/10.1080/136588100424963)"
   ]
  },
  {
   "cell_type": "markdown",
   "metadata": {},
   "source": [
    "# Discussion\n",
    "\n",
    "(1) discusses a practical trial in Trafford.  However, I have not been able to extract an exact algorithm from the description in the paper.  Furthermore, it is not clear how we might compare such predictions against those given by the other algorithms.  However, revisiting this is surely of interest for future work.\n",
    "\n",
    "(2) See pages 39--41  This does indeed find evidence that repeat victimisation is linked to a time of day effect.  The analysis looks at the 3 shift patterns employed by the police in the study.  It ends with the followig note:\n",
    "\n",
    "> Thus, as a final change to\n",
    "the system, the predictive model was developed so that it produced different maps for the\n",
    "different shifts, weighting more heavily those events that occurred during the same shift as\n",
    "that for which the prediction was made.\n",
    "\n",
    "However, no details as to these \"weighting\"(s) is given.\n",
    "\n",
    "(3) Discusses \"aoristic analysis\": how to handle the fact that e.g. most burgulary crime does not occur at a know timepoint, but rather in a time range (e.g. at some point during the day while the property in question was unoccupied).  There is some brief discussion of how to adapt the standard hot-spot algorithm, but no real discussion of \"prediction\"."
   ]
  },
  {
   "cell_type": "code",
   "execution_count": null,
   "metadata": {
    "collapsed": true
   },
   "outputs": [],
   "source": []
  }
 ],
 "metadata": {
  "kernelspec": {
   "display_name": "Python 3",
   "language": "python",
   "name": "python3"
  },
  "language_info": {
   "codemirror_mode": {
    "name": "ipython",
    "version": 3
   },
   "file_extension": ".py",
   "mimetype": "text/x-python",
   "name": "python",
   "nbconvert_exporter": "python",
   "pygments_lexer": "ipython3",
   "version": "3.6.1"
  }
 },
 "nbformat": 4,
 "nbformat_minor": 2
}
